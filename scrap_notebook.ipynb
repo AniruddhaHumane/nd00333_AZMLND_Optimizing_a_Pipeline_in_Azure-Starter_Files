{
  "cells": [
    {
      "cell_type": "code",
      "source": [
        "from sklearn.linear_model import LogisticRegression\r\n",
        "import argparse\r\n",
        "import os\r\n",
        "import numpy as np\r\n",
        "from sklearn.metrics import mean_squared_error\r\n",
        "import joblib\r\n",
        "from sklearn.model_selection import train_test_split\r\n",
        "from sklearn.preprocessing import OneHotEncoder\r\n",
        "import pandas as pd\r\n",
        "from azureml.core.run import Run\r\n",
        "from azureml.data.dataset_factory import TabularDatasetFactory"
      ],
      "outputs": [],
      "execution_count": 1,
      "metadata": {
        "gather": {
          "logged": 1604503088469
        }
      }
    },
    {
      "cell_type": "code",
      "source": [
        "ds = TabularDatasetFactory.from_delimited_files(\"https://automlsamplenotebookdata.blob.core.windows.net/automl-sample-notebook-data/bankmarketing_train.csv\")"
      ],
      "outputs": [],
      "execution_count": 3,
      "metadata": {
        "collapsed": true,
        "jupyter": {
          "source_hidden": false,
          "outputs_hidden": false
        },
        "nteract": {
          "transient": {
            "deleting": false
          }
        },
        "gather": {
          "logged": 1604503125778
        }
      }
    },
    {
      "cell_type": "code",
      "source": [
        "def clean_data(data):\r\n",
        "    # Dict for cleaning data\r\n",
        "    months = {\"jan\":1, \"feb\":2, \"mar\":3, \"apr\":4, \"may\":5, \"jun\":6, \"jul\":7, \"aug\":8, \"sep\":9, \"oct\":10, \"nov\":11, \"dec\":12}\r\n",
        "    weekdays = {\"mon\":1, \"tue\":2, \"wed\":3, \"thu\":4, \"fri\":5, \"sat\":6, \"sun\":7}\r\n",
        "\r\n",
        "    # Clean and one hot encode data\r\n",
        "    x_df = data.to_pandas_dataframe().dropna()\r\n",
        "    jobs = pd.get_dummies(x_df.job, prefix=\"job\")\r\n",
        "    x_df.drop(\"job\", inplace=True, axis=1)\r\n",
        "    x_df = x_df.join(jobs)\r\n",
        "    x_df[\"marital\"] = x_df.marital.apply(lambda s: 1 if s == \"married\" else 0)\r\n",
        "    x_df[\"default\"] = x_df.default.apply(lambda s: 1 if s == \"yes\" else 0)\r\n",
        "    x_df[\"housing\"] = x_df.housing.apply(lambda s: 1 if s == \"yes\" else 0)\r\n",
        "    x_df[\"loan\"] = x_df.loan.apply(lambda s: 1 if s == \"yes\" else 0)\r\n",
        "    contact = pd.get_dummies(x_df.contact, prefix=\"contact\")\r\n",
        "    x_df.drop(\"contact\", inplace=True, axis=1)\r\n",
        "    x_df = x_df.join(contact)\r\n",
        "    education = pd.get_dummies(x_df.education, prefix=\"education\")\r\n",
        "    x_df.drop(\"education\", inplace=True, axis=1)\r\n",
        "    x_df = x_df.join(education)\r\n",
        "    x_df[\"month\"] = x_df.month.map(months)\r\n",
        "    x_df[\"day_of_week\"] = x_df.day_of_week.map(weekdays)\r\n",
        "    x_df[\"poutcome\"] = x_df.poutcome.apply(lambda s: 1 if s == \"success\" else 0)\r\n",
        "\r\n",
        "    y_df = x_df.pop(\"y\").apply(lambda s: 1 if s == \"yes\" else 0)\r\n",
        "    return x_df, y_df"
      ],
      "outputs": [],
      "execution_count": 17,
      "metadata": {
        "collapsed": true,
        "jupyter": {
          "source_hidden": false,
          "outputs_hidden": false
        },
        "nteract": {
          "transient": {
            "deleting": false
          }
        },
        "gather": {
          "logged": 1604503823226
        }
      }
    },
    {
      "cell_type": "code",
      "source": [
        "x, y = clean_data(ds)"
      ],
      "outputs": [],
      "execution_count": 19,
      "metadata": {
        "collapsed": true,
        "jupyter": {
          "source_hidden": false,
          "outputs_hidden": false
        },
        "nteract": {
          "transient": {
            "deleting": false
          }
        },
        "gather": {
          "logged": 1604503910262
        }
      }
    },
    {
      "cell_type": "code",
      "source": [
        "x.columns"
      ],
      "outputs": [
        {
          "output_type": "execute_result",
          "execution_count": 23,
          "data": {
            "text/plain": "Index(['age', 'marital', 'default', 'housing', 'loan', 'month', 'day_of_week',\n       'duration', 'campaign', 'pdays', 'previous', 'poutcome', 'emp.var.rate',\n       'cons.price.idx', 'cons.conf.idx', 'euribor3m', 'nr.employed',\n       'job_admin.', 'job_blue-collar', 'job_entrepreneur', 'job_housemaid',\n       'job_management', 'job_retired', 'job_self-employed', 'job_services',\n       'job_student', 'job_technician', 'job_unemployed', 'job_unknown',\n       'contact_cellular', 'contact_telephone', 'education_basic.4y',\n       'education_basic.6y', 'education_basic.9y', 'education_high.school',\n       'education_illiterate', 'education_professional.course',\n       'education_university.degree', 'education_unknown'],\n      dtype='object')"
          },
          "metadata": {}
        }
      ],
      "execution_count": 23,
      "metadata": {
        "collapsed": true,
        "jupyter": {
          "source_hidden": false,
          "outputs_hidden": false
        },
        "nteract": {
          "transient": {
            "deleting": false
          }
        },
        "gather": {
          "logged": 1604504402761
        }
      }
    },
    {
      "cell_type": "code",
      "source": [
        "x.to_csv(\"x.csv\")\r\n",
        "y.to_csv(\"y.csv\")"
      ],
      "outputs": [
        {
          "output_type": "stream",
          "name": "stderr",
          "text": [
            "/anaconda/envs/azureml_py36/lib/python3.6/site-packages/ipykernel_launcher.py:2: FutureWarning: The signature of `Series.to_csv` was aligned to that of `DataFrame.to_csv`, and argument 'header' will change its default value from False to True: please pass an explicit value to suppress this warning.\n",
            "  \n"
          ]
        }
      ],
      "execution_count": 24,
      "metadata": {
        "collapsed": true,
        "jupyter": {
          "source_hidden": false,
          "outputs_hidden": false
        },
        "nteract": {
          "transient": {
            "deleting": false
          }
        },
        "gather": {
          "logged": 1604506730025
        }
      }
    },
    {
      "cell_type": "code",
      "source": [
        "X_train, X_test, y_train, y_test = train_test_split(x, y, test_size=0.2, random_state=42)"
      ],
      "outputs": [],
      "execution_count": 28,
      "metadata": {
        "collapsed": true,
        "jupyter": {
          "source_hidden": false,
          "outputs_hidden": false
        },
        "nteract": {
          "transient": {
            "deleting": false
          }
        },
        "gather": {
          "logged": 1604507177814
        }
      }
    },
    {
      "cell_type": "code",
      "source": [],
      "outputs": [],
      "execution_count": null,
      "metadata": {
        "collapsed": true,
        "jupyter": {
          "source_hidden": false,
          "outputs_hidden": false
        },
        "nteract": {
          "transient": {
            "deleting": false
          }
        }
      }
    }
  ],
  "metadata": {
    "kernelspec": {
      "name": "python3-azureml",
      "language": "python",
      "display_name": "Python 3.6 - AzureML"
    },
    "language_info": {
      "name": "python",
      "version": "3.6.9",
      "mimetype": "text/x-python",
      "codemirror_mode": {
        "name": "ipython",
        "version": 3
      },
      "pygments_lexer": "ipython3",
      "nbconvert_exporter": "python",
      "file_extension": ".py"
    },
    "kernel_info": {
      "name": "python3-azureml"
    },
    "nteract": {
      "version": "nteract-front-end@1.0.0"
    }
  },
  "nbformat": 4,
  "nbformat_minor": 2
}